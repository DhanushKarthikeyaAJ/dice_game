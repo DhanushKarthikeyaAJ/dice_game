{
  "nbformat": 4,
  "nbformat_minor": 0,
  "metadata": {
    "colab": {
      "provenance": [],
      "authorship_tag": "ABX9TyOhN4xHnv3qE1kGvsNGiaqq",
      "include_colab_link": true
    },
    "kernelspec": {
      "name": "python3",
      "display_name": "Python 3"
    },
    "language_info": {
      "name": "python"
    }
  },
  "cells": [
    {
      "cell_type": "markdown",
      "metadata": {
        "id": "view-in-github",
        "colab_type": "text"
      },
      "source": [
        "<a href=\"https://colab.research.google.com/github/DhanushKarthikeyaAJ/dice_game/blob/main/dice_game.ipynb\" target=\"_parent\"><img src=\"https://colab.research.google.com/assets/colab-badge.svg\" alt=\"Open In Colab\"/></a>"
      ]
    },
    {
      "cell_type": "code",
      "execution_count": 8,
      "metadata": {
        "colab": {
          "base_uri": "https://localhost:8080/"
        },
        "id": "ho5MGHf-NbU_",
        "outputId": "fafa2a28-5a17-4c68-c779-d50b95dbb336"
      },
      "outputs": [
        {
          "output_type": "stream",
          "name": "stdout",
          "text": [
            "roll the dice (y/n): y\n",
            "die 1:  1\n",
            "die 2:  5\n"
          ]
        }
      ],
      "source": [
        "import random\n",
        "\n",
        "while True:\n",
        "  choice = input('roll the dice (y/n): ' )\n",
        "  if choice == 'y':\n",
        "    die1 = random.randint(1,6)\n",
        "    die2 = random.randint(1,6)\n",
        "    print('die 1: ', die1)\n",
        "    print('die 2: ', die2)\n",
        "    break\n",
        "  elif choice == 'n':\n",
        "    print('thankyou')\n",
        "    break\n",
        "  else:\n",
        "    print('invalid input')\n",
        ""
      ]
    }
  ]
}